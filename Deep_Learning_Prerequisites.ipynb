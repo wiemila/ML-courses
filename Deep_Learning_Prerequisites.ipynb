{
  "nbformat": 4,
  "nbformat_minor": 0,
  "metadata": {
    "colab": {
      "provenance": [],
      "authorship_tag": "ABX9TyNXXjWzpgbkND6k1rQG+ZK8",
      "include_colab_link": true
    },
    "kernelspec": {
      "name": "python3",
      "display_name": "Python 3"
    },
    "language_info": {
      "name": "python"
    }
  },
  "cells": [
    {
      "cell_type": "markdown",
      "metadata": {
        "id": "view-in-github",
        "colab_type": "text"
      },
      "source": [
        "<a href=\"https://colab.research.google.com/github/wiemila/ML-courses/blob/main/Deep_Learning_Prerequisites.ipynb\" target=\"_parent\"><img src=\"https://colab.research.google.com/assets/colab-badge.svg\" alt=\"Open In Colab\"/></a>"
      ]
    },
    {
      "cell_type": "code",
      "execution_count": null,
      "metadata": {
        "id": "8dYPfT63Exxc"
      },
      "outputs": [],
      "source": []
    },
    {
      "cell_type": "markdown",
      "source": [
        "#Numpy Arrays vs Pandas lists"
      ],
      "metadata": {
        "id": "WrPgcMDbE8ii"
      }
    },
    {
      "cell_type": "code",
      "source": [
        "import numpy as np"
      ],
      "metadata": {
        "id": "7kSFQT9SJimm"
      },
      "execution_count": 1,
      "outputs": []
    },
    {
      "cell_type": "markdown",
      "source": [
        "make a list"
      ],
      "metadata": {
        "id": "j1nsm3-8JySP"
      }
    },
    {
      "cell_type": "code",
      "source": [
        "L=[1,2,3]"
      ],
      "metadata": {
        "id": "MZg3Q5tqJlgW"
      },
      "execution_count": 2,
      "outputs": []
    },
    {
      "cell_type": "markdown",
      "source": [
        "make an np array"
      ],
      "metadata": {
        "id": "7s0DLzaqJ0Y_"
      }
    },
    {
      "cell_type": "code",
      "source": [
        "A = np.array ([1,2,3])"
      ],
      "metadata": {
        "id": "gf_6Vm_cJpRl"
      },
      "execution_count": 4,
      "outputs": []
    },
    {
      "cell_type": "markdown",
      "source": [
        "do somthing with each item"
      ],
      "metadata": {
        "id": "tzDRLHtZJ2pJ"
      }
    },
    {
      "cell_type": "code",
      "source": [
        "for e in L:\n",
        "  print (e)"
      ],
      "metadata": {
        "colab": {
          "base_uri": "https://localhost:8080/"
        },
        "id": "JM3AHyfaJ5Lh",
        "outputId": "b1e9b704-2b55-462e-d6d8-aaff18872fb6"
      },
      "execution_count": 5,
      "outputs": [
        {
          "output_type": "stream",
          "name": "stdout",
          "text": [
            "1\n",
            "2\n",
            "3\n"
          ]
        }
      ]
    },
    {
      "cell_type": "code",
      "source": [
        "for e in A:\n",
        "  print (e)"
      ],
      "metadata": {
        "colab": {
          "base_uri": "https://localhost:8080/"
        },
        "id": "kcJIJ19gJ_FB",
        "outputId": "2f85c8e6-8493-40a9-ae87-6636344c1b0c"
      },
      "execution_count": 6,
      "outputs": [
        {
          "output_type": "stream",
          "name": "stdout",
          "text": [
            "1\n",
            "2\n",
            "3\n"
          ]
        }
      ]
    },
    {
      "cell_type": "markdown",
      "source": [
        "the same but now try to append"
      ],
      "metadata": {
        "id": "P07_ssmtKDzZ"
      }
    },
    {
      "cell_type": "code",
      "source": [
        "L.append (4)"
      ],
      "metadata": {
        "id": "sis8vCZ7KGOR"
      },
      "execution_count": 7,
      "outputs": []
    },
    {
      "cell_type": "code",
      "source": [
        "L"
      ],
      "metadata": {
        "colab": {
          "base_uri": "https://localhost:8080/"
        },
        "id": "kh8N-DP5KK4B",
        "outputId": "ff898bd1-9f5e-4a75-dd87-2069881bc2cf"
      },
      "execution_count": 8,
      "outputs": [
        {
          "output_type": "execute_result",
          "data": {
            "text/plain": [
              "[1, 2, 3, 4]"
            ]
          },
          "metadata": {},
          "execution_count": 8
        }
      ]
    },
    {
      "cell_type": "code",
      "source": [
        "A.append(4)"
      ],
      "metadata": {
        "colab": {
          "base_uri": "https://localhost:8080/",
          "height": 141
        },
        "id": "Uny2r5xAKMyj",
        "outputId": "bd64ee0b-e041-4b6c-c4e7-d6209453f4e8"
      },
      "execution_count": 9,
      "outputs": [
        {
          "output_type": "error",
          "ename": "AttributeError",
          "evalue": "'numpy.ndarray' object has no attribute 'append'",
          "traceback": [
            "\u001b[0;31m---------------------------------------------------------------------------\u001b[0m",
            "\u001b[0;31mAttributeError\u001b[0m                            Traceback (most recent call last)",
            "\u001b[0;32m<ipython-input-9-a17c4d6940c3>\u001b[0m in \u001b[0;36m<cell line: 1>\u001b[0;34m()\u001b[0m\n\u001b[0;32m----> 1\u001b[0;31m \u001b[0mA\u001b[0m\u001b[0;34m.\u001b[0m\u001b[0mappend\u001b[0m\u001b[0;34m(\u001b[0m\u001b[0;36m4\u001b[0m\u001b[0;34m)\u001b[0m\u001b[0;34m\u001b[0m\u001b[0;34m\u001b[0m\u001b[0m\n\u001b[0m",
            "\u001b[0;31mAttributeError\u001b[0m: 'numpy.ndarray' object has no attribute 'append'"
          ]
        }
      ]
    },
    {
      "cell_type": "markdown",
      "source": [
        "the size of a list can change but size of an array is fixed, if you add an item to an array it really creates a new array.\n",
        "So there is no append for arrays"
      ],
      "metadata": {
        "id": "VhDvSHqgKPgD"
      }
    },
    {
      "cell_type": "code",
      "source": [
        "L+ [5]"
      ],
      "metadata": {
        "colab": {
          "base_uri": "https://localhost:8080/"
        },
        "id": "tw0dMVfiKWO7",
        "outputId": "cdfc20f9-0248-4646-cfb0-96de4950d131"
      },
      "execution_count": 10,
      "outputs": [
        {
          "output_type": "execute_result",
          "data": {
            "text/plain": [
              "[1, 2, 3, 4, 5]"
            ]
          },
          "metadata": {},
          "execution_count": 10
        }
      ]
    },
    {
      "cell_type": "markdown",
      "source": [
        "this opperation is contatenate but for an array its broadcasting"
      ],
      "metadata": {
        "id": "nWRY2DznKcZV"
      }
    },
    {
      "cell_type": "code",
      "source": [
        "A+ np.array([4])"
      ],
      "metadata": {
        "colab": {
          "base_uri": "https://localhost:8080/"
        },
        "id": "h9QH4YkQKn_2",
        "outputId": "a5334134-1dec-4278-9337-136bcefbf7b1"
      },
      "execution_count": 11,
      "outputs": [
        {
          "output_type": "execute_result",
          "data": {
            "text/plain": [
              "array([5, 6, 7])"
            ]
          },
          "metadata": {},
          "execution_count": 11
        }
      ]
    },
    {
      "cell_type": "markdown",
      "source": [
        "it added 4 to each item, in maths it will be an illegal operation because you cannot add two vectors of different sizes"
      ],
      "metadata": {
        "id": "yMecPt4FKs53"
      }
    },
    {
      "cell_type": "code",
      "source": [
        "A+ np.array([4,5,6])"
      ],
      "metadata": {
        "colab": {
          "base_uri": "https://localhost:8080/"
        },
        "id": "W_EcInTeK0no",
        "outputId": "23ff77bd-0bfa-4b48-e824-440a1629791b"
      },
      "execution_count": 13,
      "outputs": [
        {
          "output_type": "execute_result",
          "data": {
            "text/plain": [
              "array([5, 7, 9])"
            ]
          },
          "metadata": {},
          "execution_count": 13
        }
      ]
    },
    {
      "cell_type": "markdown",
      "source": [
        "its intelligent it broadcasts if one item is added to an array and add vectors if they are the same size, if they will be different sizes it gives an error"
      ],
      "metadata": {
        "id": "jaeJLiLzLFSZ"
      }
    },
    {
      "cell_type": "code",
      "source": [
        "2*A"
      ],
      "metadata": {
        "colab": {
          "base_uri": "https://localhost:8080/"
        },
        "id": "bO460G0rLN-z",
        "outputId": "cb48499a-d8e9-4673-87c8-6884c64ff5a6"
      },
      "execution_count": 14,
      "outputs": [
        {
          "output_type": "execute_result",
          "data": {
            "text/plain": [
              "array([2, 4, 6])"
            ]
          },
          "metadata": {},
          "execution_count": 14
        }
      ]
    },
    {
      "cell_type": "code",
      "source": [
        "2*L"
      ],
      "metadata": {
        "colab": {
          "base_uri": "https://localhost:8080/"
        },
        "id": "0mQCSrUENIz9",
        "outputId": "27cd0372-7e23-4cb0-f7b7-93d146d367b7"
      },
      "execution_count": 15,
      "outputs": [
        {
          "output_type": "execute_result",
          "data": {
            "text/plain": [
              "[1, 2, 3, 4, 1, 2, 3, 4]"
            ]
          },
          "metadata": {},
          "execution_count": 15
        }
      ]
    },
    {
      "cell_type": "markdown",
      "source": [
        "for array it gives a mathematical operation for list it duplicates a list is like L+L"
      ],
      "metadata": {
        "id": "j2P0cxF-NLPW"
      }
    },
    {
      "cell_type": "code",
      "source": [
        "L2=[]\n",
        "for e in L:\n",
        "  L2.append (e+3)"
      ],
      "metadata": {
        "id": "Gqc944a6NSXg"
      },
      "execution_count": 16,
      "outputs": []
    },
    {
      "cell_type": "code",
      "source": [
        "L2"
      ],
      "metadata": {
        "colab": {
          "base_uri": "https://localhost:8080/"
        },
        "id": "9XoIBEvdNj8I",
        "outputId": "edf319f3-2f7d-4dc1-c96b-e23c47fa91d6"
      },
      "execution_count": 17,
      "outputs": [
        {
          "output_type": "execute_result",
          "data": {
            "text/plain": [
              "[4, 5, 6, 7]"
            ]
          },
          "metadata": {},
          "execution_count": 17
        }
      ]
    },
    {
      "cell_type": "markdown",
      "source": [
        "added 3 to each element of the list"
      ],
      "metadata": {
        "id": "x2uJJ29ZNmGa"
      }
    },
    {
      "cell_type": "code",
      "source": [
        "L2 = [e+3for e in L]\n",
        "L2"
      ],
      "metadata": {
        "colab": {
          "base_uri": "https://localhost:8080/"
        },
        "id": "XwC5iEJHNoGx",
        "outputId": "b8e4711d-3c21-424c-9f42-0b4a252da54a"
      },
      "execution_count": 18,
      "outputs": [
        {
          "output_type": "execute_result",
          "data": {
            "text/plain": [
              "[4, 5, 6, 7]"
            ]
          },
          "metadata": {},
          "execution_count": 18
        }
      ]
    },
    {
      "cell_type": "markdown",
      "source": [
        "gives the same"
      ],
      "metadata": {
        "id": "UtL3vioeNtka"
      }
    },
    {
      "cell_type": "code",
      "source": [
        "L2=[]\n",
        "for e in L:\n",
        "  L2.append (e**2)"
      ],
      "metadata": {
        "id": "fQDnkZNVNwQy"
      },
      "execution_count": 19,
      "outputs": []
    },
    {
      "cell_type": "code",
      "source": [
        "L2"
      ],
      "metadata": {
        "colab": {
          "base_uri": "https://localhost:8080/"
        },
        "id": "1VRzDzJ_N2AJ",
        "outputId": "950e3703-6fe6-4417-9038-d02806053773"
      },
      "execution_count": 20,
      "outputs": [
        {
          "output_type": "execute_result",
          "data": {
            "text/plain": [
              "[1, 4, 9, 16]"
            ]
          },
          "metadata": {},
          "execution_count": 20
        }
      ]
    },
    {
      "cell_type": "markdown",
      "source": [
        "each element squared can be done by going through each element with a loop, much easier with an array"
      ],
      "metadata": {
        "id": "_J0V3iiQN38r"
      }
    },
    {
      "cell_type": "code",
      "source": [
        "np.sqrt(A)"
      ],
      "metadata": {
        "colab": {
          "base_uri": "https://localhost:8080/"
        },
        "id": "pOTsC7JUN-oD",
        "outputId": "7f12ead5-7944-47cc-cbe3-8f1415cc92d2"
      },
      "execution_count": 22,
      "outputs": [
        {
          "output_type": "execute_result",
          "data": {
            "text/plain": [
              "array([1.        , 1.41421356, 1.73205081])"
            ]
          },
          "metadata": {},
          "execution_count": 22
        }
      ]
    },
    {
      "cell_type": "code",
      "source": [
        "np.log(A)"
      ],
      "metadata": {
        "colab": {
          "base_uri": "https://localhost:8080/"
        },
        "id": "NCW8CJESOFnT",
        "outputId": "e261864a-6ba8-47df-dd52-2b133cacdb90"
      },
      "execution_count": 23,
      "outputs": [
        {
          "output_type": "execute_result",
          "data": {
            "text/plain": [
              "array([0.        , 0.69314718, 1.09861229])"
            ]
          },
          "metadata": {},
          "execution_count": 23
        }
      ]
    },
    {
      "cell_type": "code",
      "source": [
        "np.exp(A)"
      ],
      "metadata": {
        "colab": {
          "base_uri": "https://localhost:8080/"
        },
        "id": "nMA9MYZ6OID-",
        "outputId": "74ffb87f-a2cf-49b5-c723-a824b7dd712d"
      },
      "execution_count": 24,
      "outputs": [
        {
          "output_type": "execute_result",
          "data": {
            "text/plain": [
              "array([ 2.71828183,  7.3890561 , 20.08553692])"
            ]
          },
          "metadata": {},
          "execution_count": 24
        }
      ]
    },
    {
      "cell_type": "markdown",
      "source": [
        "with arrays its easy to make operations on single elements, do not have to enumarate"
      ],
      "metadata": {
        "id": "-_J0oUXcOKsE"
      }
    },
    {
      "cell_type": "code",
      "source": [
        "np.tanh(A)"
      ],
      "metadata": {
        "colab": {
          "base_uri": "https://localhost:8080/"
        },
        "id": "4Vu3MEQqOR9-",
        "outputId": "b0fe460a-215b-4f14-8c1d-3a245bb35f53"
      },
      "execution_count": 25,
      "outputs": [
        {
          "output_type": "execute_result",
          "data": {
            "text/plain": [
              "array([0.76159416, 0.96402758, 0.99505475])"
            ]
          },
          "metadata": {},
          "execution_count": 25
        }
      ]
    },
    {
      "cell_type": "markdown",
      "source": [
        "A list looks like an array but its a generic data structure. Numpy array exists specifically to do math -cannot change size easily"
      ],
      "metadata": {
        "id": "q8RTfWVnOZAA"
      }
    },
    {
      "cell_type": "markdown",
      "source": [
        "# Dot product"
      ],
      "metadata": {
        "id": "B544XqYKOhY-"
      }
    },
    {
      "cell_type": "code",
      "source": [
        "a=np.array([1,2])\n",
        "b=np.array([3,4])"
      ],
      "metadata": {
        "id": "PFzTxAXvOk0u"
      },
      "execution_count": 27,
      "outputs": []
    },
    {
      "cell_type": "markdown",
      "source": [
        "multiply two arrays element wise and sum the those results together"
      ],
      "metadata": {
        "id": "GiuUXuFlPhcG"
      }
    },
    {
      "cell_type": "code",
      "source": [
        "dot =0\n",
        "for e, f in zip(a,b):\n",
        "  dot +=e*f\n",
        "dot"
      ],
      "metadata": {
        "colab": {
          "base_uri": "https://localhost:8080/"
        },
        "id": "9maBTMOYPfDu",
        "outputId": "64c53d31-ecd1-4a13-d47f-57f6d1823833"
      },
      "execution_count": 30,
      "outputs": [
        {
          "output_type": "execute_result",
          "data": {
            "text/plain": [
              "11"
            ]
          },
          "metadata": {},
          "execution_count": 30
        }
      ]
    },
    {
      "cell_type": "markdown",
      "source": [
        "above a zip funciton was used to go through elements one by one but if we have arrays we can use indexing"
      ],
      "metadata": {
        "id": "yAJjVPG1P_Pg"
      }
    },
    {
      "cell_type": "code",
      "source": [
        "dot =0\n",
        "for i in range (len(a)):\n",
        "  dot+= a[i]* b[i]\n",
        "dot"
      ],
      "metadata": {
        "colab": {
          "base_uri": "https://localhost:8080/"
        },
        "id": "2na8zA37QA8v",
        "outputId": "dd8fbfbe-8006-499c-82af-0d63551bd152"
      },
      "execution_count": 31,
      "outputs": [
        {
          "output_type": "execute_result",
          "data": {
            "text/plain": [
              "11"
            ]
          },
          "metadata": {},
          "execution_count": 31
        }
      ]
    },
    {
      "cell_type": "markdown",
      "source": [
        "multiplication"
      ],
      "metadata": {
        "id": "T8gnor3pQV2P"
      }
    },
    {
      "cell_type": "code",
      "source": [
        "a*b"
      ],
      "metadata": {
        "colab": {
          "base_uri": "https://localhost:8080/"
        },
        "id": "H8lXtvdHQZvA",
        "outputId": "908ffd44-d293-42be-d677-2d8b00305047"
      },
      "execution_count": 32,
      "outputs": [
        {
          "output_type": "execute_result",
          "data": {
            "text/plain": [
              "array([3, 8])"
            ]
          },
          "metadata": {},
          "execution_count": 32
        }
      ]
    },
    {
      "cell_type": "markdown",
      "source": [
        "to get a dot product we can sum"
      ],
      "metadata": {
        "id": "LieqC9RLQcCA"
      }
    },
    {
      "cell_type": "code",
      "source": [
        "np.sum(a*b)"
      ],
      "metadata": {
        "colab": {
          "base_uri": "https://localhost:8080/"
        },
        "id": "rhtCFR28Qd8o",
        "outputId": "1d56fcad-8fe1-4e65-b60a-618f7623baba"
      },
      "execution_count": 33,
      "outputs": [
        {
          "output_type": "execute_result",
          "data": {
            "text/plain": [
              "11"
            ]
          },
          "metadata": {},
          "execution_count": 33
        }
      ]
    },
    {
      "cell_type": "code",
      "source": [
        "(a*b).sum()"
      ],
      "metadata": {
        "colab": {
          "base_uri": "https://localhost:8080/"
        },
        "id": "diSLU0fTQhug",
        "outputId": "f257c289-1a05-4785-c799-2d152e465a5a"
      },
      "execution_count": 34,
      "outputs": [
        {
          "output_type": "execute_result",
          "data": {
            "text/plain": [
              "11"
            ]
          },
          "metadata": {},
          "execution_count": 34
        }
      ]
    },
    {
      "cell_type": "code",
      "source": [
        "np.dot(a,b)"
      ],
      "metadata": {
        "colab": {
          "base_uri": "https://localhost:8080/"
        },
        "id": "6Z6GcoTdQnYp",
        "outputId": "edd1e152-6fa5-44cd-f421-899c288ae6e3"
      },
      "execution_count": 35,
      "outputs": [
        {
          "output_type": "execute_result",
          "data": {
            "text/plain": [
              "11"
            ]
          },
          "metadata": {},
          "execution_count": 35
        }
      ]
    },
    {
      "cell_type": "code",
      "source": [
        "a.dot(b)"
      ],
      "metadata": {
        "colab": {
          "base_uri": "https://localhost:8080/"
        },
        "id": "u4rCJXjVQqOA",
        "outputId": "c7cc75f9-1289-47ce-c341-22315c284522"
      },
      "execution_count": 36,
      "outputs": [
        {
          "output_type": "execute_result",
          "data": {
            "text/plain": [
              "11"
            ]
          },
          "metadata": {},
          "execution_count": 36
        }
      ]
    },
    {
      "cell_type": "code",
      "source": [
        "a@b"
      ],
      "metadata": {
        "colab": {
          "base_uri": "https://localhost:8080/"
        },
        "id": "3wV45l2FQtPx",
        "outputId": "3d373762-48fc-412a-ad73-c53f79638ba0"
      },
      "execution_count": 37,
      "outputs": [
        {
          "output_type": "execute_result",
          "data": {
            "text/plain": [
              "11"
            ]
          },
          "metadata": {},
          "execution_count": 37
        }
      ]
    },
    {
      "cell_type": "markdown",
      "source": [
        "many different methods to do the same operation"
      ],
      "metadata": {
        "id": "8moAMBViQvRY"
      }
    },
    {
      "cell_type": "markdown",
      "source": [
        "magnitute of a vector is just square root of a sum of all the elements squared"
      ],
      "metadata": {
        "id": "FZ9WoghBQ4Ur"
      }
    },
    {
      "cell_type": "code",
      "source": [
        "magVa=np.sqrt(np.sum(a**2))\n",
        "magVa"
      ],
      "metadata": {
        "colab": {
          "base_uri": "https://localhost:8080/"
        },
        "id": "0NvCmOVkQzSL",
        "outputId": "d9628f79-5bdf-468e-9524-e3b0df8fe851"
      },
      "execution_count": 40,
      "outputs": [
        {
          "output_type": "execute_result",
          "data": {
            "text/plain": [
              "2.23606797749979"
            ]
          },
          "metadata": {},
          "execution_count": 40
        }
      ]
    },
    {
      "cell_type": "code",
      "source": [
        "amag=np.sqrt((a*a).sum())\n",
        "amag"
      ],
      "metadata": {
        "colab": {
          "base_uri": "https://localhost:8080/"
        },
        "id": "XUKpq06zRqM0",
        "outputId": "8c46b27d-fc1d-4bb1-a244-dd0bdda5ad56"
      },
      "execution_count": 41,
      "outputs": [
        {
          "output_type": "execute_result",
          "data": {
            "text/plain": [
              "2.23606797749979"
            ]
          },
          "metadata": {},
          "execution_count": 41
        }
      ]
    },
    {
      "cell_type": "code",
      "source": [
        "np.linalg.norm(a)"
      ],
      "metadata": {
        "colab": {
          "base_uri": "https://localhost:8080/"
        },
        "id": "gk23pd-jRyB_",
        "outputId": "169f9a42-8954-4980-970f-bb537b10a19c"
      },
      "execution_count": 42,
      "outputs": [
        {
          "output_type": "execute_result",
          "data": {
            "text/plain": [
              "2.23606797749979"
            ]
          },
          "metadata": {},
          "execution_count": 42
        }
      ]
    },
    {
      "cell_type": "markdown",
      "source": [
        "pierwsza wersja moja, druga z kursu, trzecia gotowa metoda z algebry liniowej"
      ],
      "metadata": {
        "id": "kpwJ-Q_-R1hm"
      }
    },
    {
      "cell_type": "code",
      "source": [
        "cosangle=a.dot(b)/(np.linalg.norm(a)*np.linalg.norm(b))\n",
        "cosangle"
      ],
      "metadata": {
        "colab": {
          "base_uri": "https://localhost:8080/"
        },
        "id": "_q9FeJbUR83J",
        "outputId": "c652ee8f-c2ba-4655-8b16-c3d1e926442b"
      },
      "execution_count": 45,
      "outputs": [
        {
          "output_type": "execute_result",
          "data": {
            "text/plain": [
              "0.9838699100999074"
            ]
          },
          "metadata": {},
          "execution_count": 45
        }
      ]
    },
    {
      "cell_type": "markdown",
      "source": [
        "this is a cos of an angle to have an angle we need to do arccos"
      ],
      "metadata": {
        "id": "JD4juZ2CSP8R"
      }
    },
    {
      "cell_type": "code",
      "source": [
        "angle =np. arccos(cosangle)\n",
        "angle"
      ],
      "metadata": {
        "colab": {
          "base_uri": "https://localhost:8080/"
        },
        "id": "PFgjZ934SUDP",
        "outputId": "977a4838-7b02-49bc-da73-ac6b6ae3b0b0"
      },
      "execution_count": 46,
      "outputs": [
        {
          "output_type": "execute_result",
          "data": {
            "text/plain": [
              "0.17985349979247847"
            ]
          },
          "metadata": {},
          "execution_count": 46
        }
      ]
    },
    {
      "cell_type": "markdown",
      "source": [
        "When programming think about avoiding for loops"
      ],
      "metadata": {
        "id": "JswO39jrSfCp"
      }
    },
    {
      "cell_type": "markdown",
      "source": [
        "#Matrices"
      ],
      "metadata": {
        "id": "johKFM59TJYr"
      }
    },
    {
      "cell_type": "markdown",
      "source": [
        "2 dimensional arrays are as matrices"
      ],
      "metadata": {
        "id": "Ugw2iwzXTM1E"
      }
    },
    {
      "cell_type": "markdown",
      "source": [
        "there is an actual object numpy.matrix but its not recommended to use, because it must be 2 dimensional and np.array can be any dimensional"
      ],
      "metadata": {
        "id": "DMLPukgdTRw0"
      }
    },
    {
      "cell_type": "markdown",
      "source": [
        "if not using numpy how to make a matrix"
      ],
      "metadata": {
        "id": "7zI30mr_TkZN"
      }
    },
    {
      "cell_type": "code",
      "source": [
        "L = [[1,2],[3,4]]\n",
        "L"
      ],
      "metadata": {
        "colab": {
          "base_uri": "https://localhost:8080/"
        },
        "id": "8PKRCLa2TLz8",
        "outputId": "94e60305-130c-4e28-b410-d49ee713f762"
      },
      "execution_count": 47,
      "outputs": [
        {
          "output_type": "execute_result",
          "data": {
            "text/plain": [
              "[[1, 2], [3, 4]]"
            ]
          },
          "metadata": {},
          "execution_count": 47
        }
      ]
    },
    {
      "cell_type": "markdown",
      "source": [
        "this is a list of lists, how to access it"
      ],
      "metadata": {
        "id": "PjpPEEv8TwId"
      }
    },
    {
      "cell_type": "code",
      "source": [
        "L[0]"
      ],
      "metadata": {
        "colab": {
          "base_uri": "https://localhost:8080/"
        },
        "id": "Ph1iSZf9TyX9",
        "outputId": "8b42be47-8cf8-421a-b550-5676b0f25118"
      },
      "execution_count": 48,
      "outputs": [
        {
          "output_type": "execute_result",
          "data": {
            "text/plain": [
              "[1, 2]"
            ]
          },
          "metadata": {},
          "execution_count": 48
        }
      ]
    },
    {
      "cell_type": "markdown",
      "source": [
        "row first later column"
      ],
      "metadata": {
        "id": "UBxCs6MQT1ae"
      }
    },
    {
      "cell_type": "code",
      "source": [
        "L[0][1]"
      ],
      "metadata": {
        "colab": {
          "base_uri": "https://localhost:8080/"
        },
        "id": "KqszHAMHT4P2",
        "outputId": "c237144e-56d6-43d5-b0c1-9caf932b395c"
      },
      "execution_count": 49,
      "outputs": [
        {
          "output_type": "execute_result",
          "data": {
            "text/plain": [
              "2"
            ]
          },
          "metadata": {},
          "execution_count": 49
        }
      ]
    },
    {
      "cell_type": "markdown",
      "source": [
        "how to do it using numpy"
      ],
      "metadata": {
        "id": "hEeHJ-KzT8hm"
      }
    },
    {
      "cell_type": "code",
      "source": [
        "A = np.array ([[1,2],[3,4]])\n",
        "A"
      ],
      "metadata": {
        "colab": {
          "base_uri": "https://localhost:8080/"
        },
        "id": "NQJz98mvT95G",
        "outputId": "f9881b07-9248-4c25-a4ef-59adcd996db2"
      },
      "execution_count": 51,
      "outputs": [
        {
          "output_type": "execute_result",
          "data": {
            "text/plain": [
              "array([[1, 2],\n",
              "       [3, 4]])"
            ]
          },
          "metadata": {},
          "execution_count": 51
        }
      ]
    },
    {
      "cell_type": "code",
      "source": [
        "A[0][1]"
      ],
      "metadata": {
        "colab": {
          "base_uri": "https://localhost:8080/"
        },
        "id": "xXQrEgRwUId3",
        "outputId": "dc3e8b26-d7db-4190-824f-e8b3507e4fb0"
      },
      "execution_count": 52,
      "outputs": [
        {
          "output_type": "execute_result",
          "data": {
            "text/plain": [
              "2"
            ]
          },
          "metadata": {},
          "execution_count": 52
        }
      ]
    },
    {
      "cell_type": "markdown",
      "source": [
        "can be accessed as a list of lists"
      ],
      "metadata": {
        "id": "7vwY5ousUL3Y"
      }
    },
    {
      "cell_type": "code",
      "source": [
        "A[0,1]"
      ],
      "metadata": {
        "colab": {
          "base_uri": "https://localhost:8080/"
        },
        "id": "bhT_SSJNUOCA",
        "outputId": "3c3ba80c-0db0-41c9-a3c6-2fdb7aa4cafd"
      },
      "execution_count": 53,
      "outputs": [
        {
          "output_type": "execute_result",
          "data": {
            "text/plain": [
              "2"
            ]
          },
          "metadata": {},
          "execution_count": 53
        }
      ]
    },
    {
      "cell_type": "markdown",
      "source": [
        "select a column"
      ],
      "metadata": {
        "id": "895zYtPpURfx"
      }
    },
    {
      "cell_type": "code",
      "source": [
        "A[:,0]"
      ],
      "metadata": {
        "colab": {
          "base_uri": "https://localhost:8080/"
        },
        "id": "Vp8feEfYUSog",
        "outputId": "72baaf74-d356-4ab3-973e-823ad2b209f1"
      },
      "execution_count": 54,
      "outputs": [
        {
          "output_type": "execute_result",
          "data": {
            "text/plain": [
              "array([1, 3])"
            ]
          },
          "metadata": {},
          "execution_count": 54
        }
      ]
    },
    {
      "cell_type": "code",
      "source": [
        "A.T"
      ],
      "metadata": {
        "colab": {
          "base_uri": "https://localhost:8080/"
        },
        "id": "PSSjN-dYUW8Q",
        "outputId": "056a4d77-36bb-4bed-bbae-1fdbf31bfb0d"
      },
      "execution_count": 55,
      "outputs": [
        {
          "output_type": "execute_result",
          "data": {
            "text/plain": [
              "array([[1, 3],\n",
              "       [2, 4]])"
            ]
          },
          "metadata": {},
          "execution_count": 55
        }
      ]
    },
    {
      "cell_type": "markdown",
      "source": [
        "can be transposed"
      ],
      "metadata": {
        "id": "EnPY1WY9UYjA"
      }
    },
    {
      "cell_type": "code",
      "source": [
        "np.exp(A)"
      ],
      "metadata": {
        "colab": {
          "base_uri": "https://localhost:8080/"
        },
        "id": "8fhzKpkTUZ1w",
        "outputId": "5c84649a-2272-42a3-a411-3f3815347a6e"
      },
      "execution_count": 56,
      "outputs": [
        {
          "output_type": "execute_result",
          "data": {
            "text/plain": [
              "array([[ 2.71828183,  7.3890561 ],\n",
              "       [20.08553692, 54.59815003]])"
            ]
          },
          "metadata": {},
          "execution_count": 56
        }
      ]
    },
    {
      "cell_type": "markdown",
      "source": [
        "exp for each element in case of numpy array but with a list it will be the same becaus it will assume its an array"
      ],
      "metadata": {
        "id": "_atAMiVpUe6Y"
      }
    },
    {
      "cell_type": "code",
      "source": [
        "np.exp(L)"
      ],
      "metadata": {
        "colab": {
          "base_uri": "https://localhost:8080/"
        },
        "id": "tLGQYsmoUmEg",
        "outputId": "53c760ef-e479-47d3-d3e6-884fc6d67719"
      },
      "execution_count": 57,
      "outputs": [
        {
          "output_type": "execute_result",
          "data": {
            "text/plain": [
              "array([[ 2.71828183,  7.3890561 ],\n",
              "       [20.08553692, 54.59815003]])"
            ]
          },
          "metadata": {},
          "execution_count": 57
        }
      ]
    },
    {
      "cell_type": "markdown",
      "source": [
        "Matrix multiplication"
      ],
      "metadata": {
        "id": "J-pRZj3YUpPJ"
      }
    },
    {
      "cell_type": "code",
      "source": [
        "B = np.array([[1,2,3],[4,5,6]])\n",
        "B"
      ],
      "metadata": {
        "colab": {
          "base_uri": "https://localhost:8080/"
        },
        "id": "Njm9be6IUqi6",
        "outputId": "e4cad222-358e-49c2-ceb4-ab6183d75b02"
      },
      "execution_count": 60,
      "outputs": [
        {
          "output_type": "execute_result",
          "data": {
            "text/plain": [
              "array([[1, 2, 3],\n",
              "       [4, 5, 6]])"
            ]
          },
          "metadata": {},
          "execution_count": 60
        }
      ]
    },
    {
      "cell_type": "code",
      "source": [
        "A.dot(B)"
      ],
      "metadata": {
        "colab": {
          "base_uri": "https://localhost:8080/"
        },
        "id": "QfxtGygJU4aK",
        "outputId": "d4f88f91-2155-47ab-de8c-d567d3cf0c3a"
      },
      "execution_count": 61,
      "outputs": [
        {
          "output_type": "execute_result",
          "data": {
            "text/plain": [
              "array([[ 9, 12, 15],\n",
              "       [19, 26, 33]])"
            ]
          },
          "metadata": {},
          "execution_count": 61
        }
      ]
    },
    {
      "cell_type": "markdown",
      "source": [
        "(*)gives element by element multiplication and not a matrix multiplication, for matrix multiplication the inner size must match"
      ],
      "metadata": {
        "id": "QPuv3EpnU3zi"
      }
    },
    {
      "cell_type": "code",
      "source": [
        "A.dot(B.T)"
      ],
      "metadata": {
        "colab": {
          "base_uri": "https://localhost:8080/",
          "height": 141
        },
        "id": "laLS8IY5VFx8",
        "outputId": "2f820a80-8e20-475f-f08b-adcda1042d70"
      },
      "execution_count": 62,
      "outputs": [
        {
          "output_type": "error",
          "ename": "ValueError",
          "evalue": "shapes (2,2) and (3,2) not aligned: 2 (dim 1) != 3 (dim 0)",
          "traceback": [
            "\u001b[0;31m---------------------------------------------------------------------------\u001b[0m",
            "\u001b[0;31mValueError\u001b[0m                                Traceback (most recent call last)",
            "\u001b[0;32m<ipython-input-62-80d79729e8e6>\u001b[0m in \u001b[0;36m<cell line: 1>\u001b[0;34m()\u001b[0m\n\u001b[0;32m----> 1\u001b[0;31m \u001b[0mA\u001b[0m\u001b[0;34m.\u001b[0m\u001b[0mdot\u001b[0m\u001b[0;34m(\u001b[0m\u001b[0mB\u001b[0m\u001b[0;34m.\u001b[0m\u001b[0mT\u001b[0m\u001b[0;34m)\u001b[0m\u001b[0;34m\u001b[0m\u001b[0;34m\u001b[0m\u001b[0m\n\u001b[0m",
            "\u001b[0;31mValueError\u001b[0m: shapes (2,2) and (3,2) not aligned: 2 (dim 1) != 3 (dim 0)"
          ]
        }
      ]
    },
    {
      "cell_type": "markdown",
      "source": [
        "doesnt work because the size is wrong"
      ],
      "metadata": {
        "id": "sQTGoyYkVNCC"
      }
    },
    {
      "cell_type": "code",
      "source": [
        "np.linalg.det(A)"
      ],
      "metadata": {
        "colab": {
          "base_uri": "https://localhost:8080/"
        },
        "id": "FhGpN7biZuMG",
        "outputId": "9bc2ccda-a578-47a7-def8-dc487f41a97b"
      },
      "execution_count": 63,
      "outputs": [
        {
          "output_type": "execute_result",
          "data": {
            "text/plain": [
              "-2.0000000000000004"
            ]
          },
          "metadata": {},
          "execution_count": 63
        }
      ]
    },
    {
      "cell_type": "code",
      "source": [
        "np.linalg.inv(A)"
      ],
      "metadata": {
        "colab": {
          "base_uri": "https://localhost:8080/"
        },
        "id": "mQoxWyW0Zzd_",
        "outputId": "f1cc1edf-e573-4749-bb39-2c3432f5b327"
      },
      "execution_count": 64,
      "outputs": [
        {
          "output_type": "execute_result",
          "data": {
            "text/plain": [
              "array([[-2. ,  1. ],\n",
              "       [ 1.5, -0.5]])"
            ]
          },
          "metadata": {},
          "execution_count": 64
        }
      ]
    },
    {
      "cell_type": "markdown",
      "source": [
        "we can check if its correct"
      ],
      "metadata": {
        "id": "TOhh-4bKZ289"
      }
    },
    {
      "cell_type": "code",
      "source": [
        "np.linalg.inv(A).dot(A)"
      ],
      "metadata": {
        "colab": {
          "base_uri": "https://localhost:8080/"
        },
        "id": "RhOSgv8ZZ4dt",
        "outputId": "308b4cd3-83e5-48b0-889b-17d6b4662b6c"
      },
      "execution_count": 65,
      "outputs": [
        {
          "output_type": "execute_result",
          "data": {
            "text/plain": [
              "array([[1.00000000e+00, 0.00000000e+00],\n",
              "       [1.11022302e-16, 1.00000000e+00]])"
            ]
          },
          "metadata": {},
          "execution_count": 65
        }
      ]
    },
    {
      "cell_type": "markdown",
      "source": [
        "the algorithms are not exact so if you dont need to do an inverse do not do it"
      ],
      "metadata": {
        "id": "mAZFbyaBZ9Tt"
      }
    },
    {
      "cell_type": "code",
      "source": [
        "np.trace(A)"
      ],
      "metadata": {
        "colab": {
          "base_uri": "https://localhost:8080/"
        },
        "id": "pJk_jSplaDqq",
        "outputId": "fa0a261f-dba4-4c15-e913-74dbe8d2032f"
      },
      "execution_count": 66,
      "outputs": [
        {
          "output_type": "execute_result",
          "data": {
            "text/plain": [
              "5"
            ]
          },
          "metadata": {},
          "execution_count": 66
        }
      ]
    },
    {
      "cell_type": "code",
      "source": [
        "np.diag(A)"
      ],
      "metadata": {
        "colab": {
          "base_uri": "https://localhost:8080/"
        },
        "id": "b60GFfHtaJmn",
        "outputId": "31873325-fca3-4dcf-a2c1-e05d43fddab1"
      },
      "execution_count": 67,
      "outputs": [
        {
          "output_type": "execute_result",
          "data": {
            "text/plain": [
              "array([1, 4])"
            ]
          },
          "metadata": {},
          "execution_count": 67
        }
      ]
    },
    {
      "cell_type": "code",
      "source": [
        "np.diag([1,4])"
      ],
      "metadata": {
        "colab": {
          "base_uri": "https://localhost:8080/"
        },
        "id": "IoqVWnp6aRPh",
        "outputId": "a776b89d-e9a4-4abb-a481-d6dfdceaa488"
      },
      "execution_count": 68,
      "outputs": [
        {
          "output_type": "execute_result",
          "data": {
            "text/plain": [
              "array([[1, 0],\n",
              "       [0, 4]])"
            ]
          },
          "metadata": {},
          "execution_count": 68
        }
      ]
    },
    {
      "cell_type": "markdown",
      "source": [
        "function is overloded if you put on an array you get a vector and if put a vector get an array"
      ],
      "metadata": {
        "id": "rrE__3JOaWfW"
      }
    },
    {
      "cell_type": "markdown",
      "source": [
        "the top is a diagonal matrix"
      ],
      "metadata": {
        "id": "-db_-nJFahJ2"
      }
    },
    {
      "cell_type": "markdown",
      "source": [
        "eigenvalues and eigenvectors"
      ],
      "metadata": {
        "id": "bes9UYQgajZ2"
      }
    },
    {
      "cell_type": "code",
      "source": [
        "np.linalg.eig(A)"
      ],
      "metadata": {
        "colab": {
          "base_uri": "https://localhost:8080/"
        },
        "id": "5iGvIZ42alaP",
        "outputId": "2c55520c-a390-4aa7-e2f2-65dc1df59258"
      },
      "execution_count": 69,
      "outputs": [
        {
          "output_type": "execute_result",
          "data": {
            "text/plain": [
              "EigResult(eigenvalues=array([-0.37228132,  5.37228132]), eigenvectors=array([[-0.82456484, -0.41597356],\n",
              "       [ 0.56576746, -0.90937671]]))"
            ]
          },
          "metadata": {},
          "execution_count": 69
        }
      ]
    },
    {
      "cell_type": "markdown",
      "source": [
        "check if the values are correct"
      ],
      "metadata": {
        "id": "I0380H7Wax-d"
      }
    },
    {
      "cell_type": "code",
      "source": [
        "Lam, V = np.linalg.eig(A)"
      ],
      "metadata": {
        "id": "qytW2Qqva4r-"
      },
      "execution_count": 71,
      "outputs": []
    },
    {
      "cell_type": "markdown",
      "source": [
        "zeroth eigenvalue * zeroth eigenvector = a* the same eingenvector"
      ],
      "metadata": {
        "id": "VPToO4g3bRci"
      }
    },
    {
      "cell_type": "code",
      "source": [
        "V[:,0]* Lam[0]==A@ V[:,0]"
      ],
      "metadata": {
        "colab": {
          "base_uri": "https://localhost:8080/"
        },
        "id": "56Ct5LLrbaYu",
        "outputId": "7fb0519f-f41d-4c19-b113-784c1880d1af"
      },
      "execution_count": 72,
      "outputs": [
        {
          "output_type": "execute_result",
          "data": {
            "text/plain": [
              "array([ True, False])"
            ]
          },
          "metadata": {},
          "execution_count": 72
        }
      ]
    },
    {
      "cell_type": "code",
      "source": [
        "V[:,0]* Lam[0],A@ V[:,0]"
      ],
      "metadata": {
        "colab": {
          "base_uri": "https://localhost:8080/"
        },
        "id": "Ps4pojTDboxP",
        "outputId": "2d186145-16d9-4742-d1e3-3c80f98e3111"
      },
      "execution_count": 73,
      "outputs": [
        {
          "output_type": "execute_result",
          "data": {
            "text/plain": [
              "(array([ 0.30697009, -0.21062466]), array([ 0.30697009, -0.21062466]))"
            ]
          },
          "metadata": {},
          "execution_count": 73
        }
      ]
    },
    {
      "cell_type": "markdown",
      "source": [
        "the values look like there are equal but numpy thinks they are not because of numerical precision, computers do not have infinite memory so they do not have infinite precision\n",
        "To correctly compare whether two arrays are equal numpy all close function should be used"
      ],
      "metadata": {
        "id": "-p75W4s2btin"
      }
    },
    {
      "cell_type": "code",
      "source": [
        "np.allclose(V[:,0]* Lam[0],A@ V[:,0])"
      ],
      "metadata": {
        "colab": {
          "base_uri": "https://localhost:8080/"
        },
        "id": "S1Pi7cWgcAto",
        "outputId": "595337c2-c908-4663-f252-907914ecd96d"
      },
      "execution_count": 74,
      "outputs": [
        {
          "output_type": "execute_result",
          "data": {
            "text/plain": [
              "True"
            ]
          },
          "metadata": {},
          "execution_count": 74
        }
      ]
    },
    {
      "cell_type": "markdown",
      "source": [
        "we can check all the eigenvectors at the same time using matrix notation"
      ],
      "metadata": {
        "id": "NZW0oq4tcJci"
      }
    },
    {
      "cell_type": "code",
      "source": [
        "np.allclose(V@ np.diag(Lam), A@V)"
      ],
      "metadata": {
        "colab": {
          "base_uri": "https://localhost:8080/"
        },
        "id": "PYq-ocT7cPfv",
        "outputId": "ec6777c5-aaf6-41c7-f85d-e409ff398861"
      },
      "execution_count": 75,
      "outputs": [
        {
          "output_type": "execute_result",
          "data": {
            "text/plain": [
              "True"
            ]
          },
          "metadata": {},
          "execution_count": 75
        }
      ]
    },
    {
      "cell_type": "markdown",
      "source": [],
      "metadata": {
        "id": "OM-YhnWGcYUn"
      }
    }
  ]
}