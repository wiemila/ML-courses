{
  "nbformat": 4,
  "nbformat_minor": 0,
  "metadata": {
    "colab": {
      "provenance": [],
      "authorship_tag": "ABX9TyMYq6YZbcSVXYX3y47rMBSk",
      "include_colab_link": true
    },
    "kernelspec": {
      "name": "python3",
      "display_name": "Python 3"
    },
    "language_info": {
      "name": "python"
    }
  },
  "cells": [
    {
      "cell_type": "markdown",
      "metadata": {
        "id": "view-in-github",
        "colab_type": "text"
      },
      "source": [
        "<a href=\"https://colab.research.google.com/github/wiemila/ML-courses/blob/main/Deep_Learning_Prerequisites.ipynb\" target=\"_parent\"><img src=\"https://colab.research.google.com/assets/colab-badge.svg\" alt=\"Open In Colab\"/></a>"
      ]
    },
    {
      "cell_type": "code",
      "execution_count": null,
      "metadata": {
        "id": "8dYPfT63Exxc"
      },
      "outputs": [],
      "source": []
    },
    {
      "cell_type": "markdown",
      "source": [
        "#Numpy Arrays vs Pandas lists"
      ],
      "metadata": {
        "id": "WrPgcMDbE8ii"
      }
    },
    {
      "cell_type": "code",
      "source": [
        "import numpy as np"
      ],
      "metadata": {
        "id": "7kSFQT9SJimm"
      },
      "execution_count": 1,
      "outputs": []
    },
    {
      "cell_type": "markdown",
      "source": [
        "make a list"
      ],
      "metadata": {
        "id": "j1nsm3-8JySP"
      }
    },
    {
      "cell_type": "code",
      "source": [
        "L=[1,2,3]"
      ],
      "metadata": {
        "id": "MZg3Q5tqJlgW"
      },
      "execution_count": 2,
      "outputs": []
    },
    {
      "cell_type": "markdown",
      "source": [
        "make an np array"
      ],
      "metadata": {
        "id": "7s0DLzaqJ0Y_"
      }
    },
    {
      "cell_type": "code",
      "source": [
        "A = np.array ([1,2,3])"
      ],
      "metadata": {
        "id": "gf_6Vm_cJpRl"
      },
      "execution_count": 4,
      "outputs": []
    },
    {
      "cell_type": "markdown",
      "source": [
        "do somthing with each item"
      ],
      "metadata": {
        "id": "tzDRLHtZJ2pJ"
      }
    },
    {
      "cell_type": "code",
      "source": [
        "for e in L:\n",
        "  print (e)"
      ],
      "metadata": {
        "colab": {
          "base_uri": "https://localhost:8080/"
        },
        "id": "JM3AHyfaJ5Lh",
        "outputId": "b1e9b704-2b55-462e-d6d8-aaff18872fb6"
      },
      "execution_count": 5,
      "outputs": [
        {
          "output_type": "stream",
          "name": "stdout",
          "text": [
            "1\n",
            "2\n",
            "3\n"
          ]
        }
      ]
    },
    {
      "cell_type": "code",
      "source": [
        "for e in A:\n",
        "  print (e)"
      ],
      "metadata": {
        "colab": {
          "base_uri": "https://localhost:8080/"
        },
        "id": "kcJIJ19gJ_FB",
        "outputId": "2f85c8e6-8493-40a9-ae87-6636344c1b0c"
      },
      "execution_count": 6,
      "outputs": [
        {
          "output_type": "stream",
          "name": "stdout",
          "text": [
            "1\n",
            "2\n",
            "3\n"
          ]
        }
      ]
    },
    {
      "cell_type": "markdown",
      "source": [
        "the same but now try to append"
      ],
      "metadata": {
        "id": "P07_ssmtKDzZ"
      }
    },
    {
      "cell_type": "code",
      "source": [
        "L.append (4)"
      ],
      "metadata": {
        "id": "sis8vCZ7KGOR"
      },
      "execution_count": 7,
      "outputs": []
    },
    {
      "cell_type": "code",
      "source": [
        "L"
      ],
      "metadata": {
        "colab": {
          "base_uri": "https://localhost:8080/"
        },
        "id": "kh8N-DP5KK4B",
        "outputId": "ff898bd1-9f5e-4a75-dd87-2069881bc2cf"
      },
      "execution_count": 8,
      "outputs": [
        {
          "output_type": "execute_result",
          "data": {
            "text/plain": [
              "[1, 2, 3, 4]"
            ]
          },
          "metadata": {},
          "execution_count": 8
        }
      ]
    },
    {
      "cell_type": "code",
      "source": [
        "A.append(4)"
      ],
      "metadata": {
        "colab": {
          "base_uri": "https://localhost:8080/",
          "height": 141
        },
        "id": "Uny2r5xAKMyj",
        "outputId": "bd64ee0b-e041-4b6c-c4e7-d6209453f4e8"
      },
      "execution_count": 9,
      "outputs": [
        {
          "output_type": "error",
          "ename": "AttributeError",
          "evalue": "'numpy.ndarray' object has no attribute 'append'",
          "traceback": [
            "\u001b[0;31m---------------------------------------------------------------------------\u001b[0m",
            "\u001b[0;31mAttributeError\u001b[0m                            Traceback (most recent call last)",
            "\u001b[0;32m<ipython-input-9-a17c4d6940c3>\u001b[0m in \u001b[0;36m<cell line: 1>\u001b[0;34m()\u001b[0m\n\u001b[0;32m----> 1\u001b[0;31m \u001b[0mA\u001b[0m\u001b[0;34m.\u001b[0m\u001b[0mappend\u001b[0m\u001b[0;34m(\u001b[0m\u001b[0;36m4\u001b[0m\u001b[0;34m)\u001b[0m\u001b[0;34m\u001b[0m\u001b[0;34m\u001b[0m\u001b[0m\n\u001b[0m",
            "\u001b[0;31mAttributeError\u001b[0m: 'numpy.ndarray' object has no attribute 'append'"
          ]
        }
      ]
    },
    {
      "cell_type": "markdown",
      "source": [
        "the size of a list can change but size of an array is fixed, if you add an item to an array it really creates a new array.\n",
        "So there is no append for arrays"
      ],
      "metadata": {
        "id": "VhDvSHqgKPgD"
      }
    },
    {
      "cell_type": "code",
      "source": [
        "L+ [5]"
      ],
      "metadata": {
        "colab": {
          "base_uri": "https://localhost:8080/"
        },
        "id": "tw0dMVfiKWO7",
        "outputId": "cdfc20f9-0248-4646-cfb0-96de4950d131"
      },
      "execution_count": 10,
      "outputs": [
        {
          "output_type": "execute_result",
          "data": {
            "text/plain": [
              "[1, 2, 3, 4, 5]"
            ]
          },
          "metadata": {},
          "execution_count": 10
        }
      ]
    },
    {
      "cell_type": "markdown",
      "source": [
        "this opperation is contatenate but for an array its broadcasting"
      ],
      "metadata": {
        "id": "nWRY2DznKcZV"
      }
    },
    {
      "cell_type": "code",
      "source": [
        "A+ np.array([4])"
      ],
      "metadata": {
        "colab": {
          "base_uri": "https://localhost:8080/"
        },
        "id": "h9QH4YkQKn_2",
        "outputId": "a5334134-1dec-4278-9337-136bcefbf7b1"
      },
      "execution_count": 11,
      "outputs": [
        {
          "output_type": "execute_result",
          "data": {
            "text/plain": [
              "array([5, 6, 7])"
            ]
          },
          "metadata": {},
          "execution_count": 11
        }
      ]
    },
    {
      "cell_type": "markdown",
      "source": [
        "it added 4 to each item, in maths it will be an illegal operation because you cannot add two vectors of different sizes"
      ],
      "metadata": {
        "id": "yMecPt4FKs53"
      }
    },
    {
      "cell_type": "code",
      "source": [
        "A+ np.array([4,5,6])"
      ],
      "metadata": {
        "colab": {
          "base_uri": "https://localhost:8080/"
        },
        "id": "W_EcInTeK0no",
        "outputId": "23ff77bd-0bfa-4b48-e824-440a1629791b"
      },
      "execution_count": 13,
      "outputs": [
        {
          "output_type": "execute_result",
          "data": {
            "text/plain": [
              "array([5, 7, 9])"
            ]
          },
          "metadata": {},
          "execution_count": 13
        }
      ]
    },
    {
      "cell_type": "markdown",
      "source": [
        "its intelligent it broadcasts if one item is added to an array and add vectors if they are the same size, if they will be different sizes it gives an error"
      ],
      "metadata": {
        "id": "jaeJLiLzLFSZ"
      }
    },
    {
      "cell_type": "code",
      "source": [
        "2*A"
      ],
      "metadata": {
        "colab": {
          "base_uri": "https://localhost:8080/"
        },
        "id": "bO460G0rLN-z",
        "outputId": "cb48499a-d8e9-4673-87c8-6884c64ff5a6"
      },
      "execution_count": 14,
      "outputs": [
        {
          "output_type": "execute_result",
          "data": {
            "text/plain": [
              "array([2, 4, 6])"
            ]
          },
          "metadata": {},
          "execution_count": 14
        }
      ]
    },
    {
      "cell_type": "code",
      "source": [
        "2*L"
      ],
      "metadata": {
        "colab": {
          "base_uri": "https://localhost:8080/"
        },
        "id": "0mQCSrUENIz9",
        "outputId": "27cd0372-7e23-4cb0-f7b7-93d146d367b7"
      },
      "execution_count": 15,
      "outputs": [
        {
          "output_type": "execute_result",
          "data": {
            "text/plain": [
              "[1, 2, 3, 4, 1, 2, 3, 4]"
            ]
          },
          "metadata": {},
          "execution_count": 15
        }
      ]
    },
    {
      "cell_type": "markdown",
      "source": [
        "for array it gives a mathematical operation for list it duplicates a list is like L+L"
      ],
      "metadata": {
        "id": "j2P0cxF-NLPW"
      }
    },
    {
      "cell_type": "code",
      "source": [
        "L2=[]\n",
        "for e in L:\n",
        "  L2.append (e+3)"
      ],
      "metadata": {
        "id": "Gqc944a6NSXg"
      },
      "execution_count": 16,
      "outputs": []
    },
    {
      "cell_type": "code",
      "source": [
        "L2"
      ],
      "metadata": {
        "colab": {
          "base_uri": "https://localhost:8080/"
        },
        "id": "9XoIBEvdNj8I",
        "outputId": "edf319f3-2f7d-4dc1-c96b-e23c47fa91d6"
      },
      "execution_count": 17,
      "outputs": [
        {
          "output_type": "execute_result",
          "data": {
            "text/plain": [
              "[4, 5, 6, 7]"
            ]
          },
          "metadata": {},
          "execution_count": 17
        }
      ]
    },
    {
      "cell_type": "markdown",
      "source": [
        "added 3 to each element of the list"
      ],
      "metadata": {
        "id": "x2uJJ29ZNmGa"
      }
    },
    {
      "cell_type": "code",
      "source": [
        "L2 = [e+3for e in L]\n",
        "L2"
      ],
      "metadata": {
        "colab": {
          "base_uri": "https://localhost:8080/"
        },
        "id": "XwC5iEJHNoGx",
        "outputId": "b8e4711d-3c21-424c-9f42-0b4a252da54a"
      },
      "execution_count": 18,
      "outputs": [
        {
          "output_type": "execute_result",
          "data": {
            "text/plain": [
              "[4, 5, 6, 7]"
            ]
          },
          "metadata": {},
          "execution_count": 18
        }
      ]
    },
    {
      "cell_type": "markdown",
      "source": [
        "gives the same"
      ],
      "metadata": {
        "id": "UtL3vioeNtka"
      }
    },
    {
      "cell_type": "code",
      "source": [
        "L2=[]\n",
        "for e in L:\n",
        "  L2.append (e**2)"
      ],
      "metadata": {
        "id": "fQDnkZNVNwQy"
      },
      "execution_count": 19,
      "outputs": []
    },
    {
      "cell_type": "code",
      "source": [
        "L2"
      ],
      "metadata": {
        "colab": {
          "base_uri": "https://localhost:8080/"
        },
        "id": "1VRzDzJ_N2AJ",
        "outputId": "950e3703-6fe6-4417-9038-d02806053773"
      },
      "execution_count": 20,
      "outputs": [
        {
          "output_type": "execute_result",
          "data": {
            "text/plain": [
              "[1, 4, 9, 16]"
            ]
          },
          "metadata": {},
          "execution_count": 20
        }
      ]
    },
    {
      "cell_type": "markdown",
      "source": [
        "each element squared can be done by going through each element with a loop, much easier with an array"
      ],
      "metadata": {
        "id": "_J0V3iiQN38r"
      }
    },
    {
      "cell_type": "code",
      "source": [
        "np.sqrt(A)"
      ],
      "metadata": {
        "colab": {
          "base_uri": "https://localhost:8080/"
        },
        "id": "pOTsC7JUN-oD",
        "outputId": "7f12ead5-7944-47cc-cbe3-8f1415cc92d2"
      },
      "execution_count": 22,
      "outputs": [
        {
          "output_type": "execute_result",
          "data": {
            "text/plain": [
              "array([1.        , 1.41421356, 1.73205081])"
            ]
          },
          "metadata": {},
          "execution_count": 22
        }
      ]
    },
    {
      "cell_type": "code",
      "source": [
        "np.log(A)"
      ],
      "metadata": {
        "colab": {
          "base_uri": "https://localhost:8080/"
        },
        "id": "NCW8CJESOFnT",
        "outputId": "e261864a-6ba8-47df-dd52-2b133cacdb90"
      },
      "execution_count": 23,
      "outputs": [
        {
          "output_type": "execute_result",
          "data": {
            "text/plain": [
              "array([0.        , 0.69314718, 1.09861229])"
            ]
          },
          "metadata": {},
          "execution_count": 23
        }
      ]
    },
    {
      "cell_type": "code",
      "source": [
        "np.exp(A)"
      ],
      "metadata": {
        "colab": {
          "base_uri": "https://localhost:8080/"
        },
        "id": "nMA9MYZ6OID-",
        "outputId": "74ffb87f-a2cf-49b5-c723-a824b7dd712d"
      },
      "execution_count": 24,
      "outputs": [
        {
          "output_type": "execute_result",
          "data": {
            "text/plain": [
              "array([ 2.71828183,  7.3890561 , 20.08553692])"
            ]
          },
          "metadata": {},
          "execution_count": 24
        }
      ]
    },
    {
      "cell_type": "markdown",
      "source": [
        "with arrays its easy to make operations on single elements, do not have to enumarate"
      ],
      "metadata": {
        "id": "-_J0oUXcOKsE"
      }
    },
    {
      "cell_type": "code",
      "source": [
        "np.tanh(A)"
      ],
      "metadata": {
        "colab": {
          "base_uri": "https://localhost:8080/"
        },
        "id": "4Vu3MEQqOR9-",
        "outputId": "b0fe460a-215b-4f14-8c1d-3a245bb35f53"
      },
      "execution_count": 25,
      "outputs": [
        {
          "output_type": "execute_result",
          "data": {
            "text/plain": [
              "array([0.76159416, 0.96402758, 0.99505475])"
            ]
          },
          "metadata": {},
          "execution_count": 25
        }
      ]
    },
    {
      "cell_type": "markdown",
      "source": [
        "A list looks like an array but its a generic data structure. Numpy array exists specifically to do math -cannot change size easily"
      ],
      "metadata": {
        "id": "q8RTfWVnOZAA"
      }
    },
    {
      "cell_type": "markdown",
      "source": [
        "# Dot product"
      ],
      "metadata": {
        "id": "B544XqYKOhY-"
      }
    },
    {
      "cell_type": "code",
      "source": [],
      "metadata": {
        "id": "PFzTxAXvOk0u"
      },
      "execution_count": null,
      "outputs": []
    }
  ]
}