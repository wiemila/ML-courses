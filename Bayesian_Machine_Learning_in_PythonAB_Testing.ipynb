{
  "nbformat": 4,
  "nbformat_minor": 0,
  "metadata": {
    "colab": {
      "provenance": [],
      "authorship_tag": "ABX9TyPsiGoJI7n7TvRHbTxx0X7o",
      "include_colab_link": true
    },
    "kernelspec": {
      "name": "python3",
      "display_name": "Python 3"
    },
    "language_info": {
      "name": "python"
    }
  },
  "cells": [
    {
      "cell_type": "markdown",
      "metadata": {
        "id": "view-in-github",
        "colab_type": "text"
      },
      "source": [
        "<a href=\"https://colab.research.google.com/github/wiemila/ML-courses/blob/main/Bayesian_Machine_Learning_in_PythonAB_Testing.ipynb\" target=\"_parent\"><img src=\"https://colab.research.google.com/assets/colab-badge.svg\" alt=\"Open In Colab\"/></a>"
      ]
    },
    {
      "cell_type": "markdown",
      "source": [
        "\n",
        "#Bayesian Machine Learning"
      ],
      "metadata": {
        "id": "yjGIcYWQBY3a"
      }
    },
    {
      "cell_type": "code",
      "execution_count": null,
      "metadata": {
        "id": "vGb6y26V_9ln"
      },
      "outputs": [],
      "source": [
        "#"
      ]
    },
    {
      "cell_type": "markdown",
      "source": [
        "Mean and variance of height of students in the class to create a model. Collect the data -measure the hight, maximize likelihood with respect to the gaussian mean and variance."
      ],
      "metadata": {
        "id": "j-VqnmsO2wLJ"
      }
    },
    {
      "cell_type": "markdown",
      "source": [
        "For the Bayesian approach, mean and variance are random variables (everything is random in Bayesian), so we need to find the probablity distribution of the mean and variance and not a single number, a whole distribtuion."
      ],
      "metadata": {
        "id": "eLgiQ3Cw3ETo"
      }
    },
    {
      "cell_type": "markdown",
      "source": [
        "Statistics route -choose sampling method -numeral approximation of an integral"
      ],
      "metadata": {
        "id": "NGfDXN6j3SIZ"
      }
    }
  ]
}