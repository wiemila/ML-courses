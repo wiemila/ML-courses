{
  "nbformat": 4,
  "nbformat_minor": 0,
  "metadata": {
    "colab": {
      "provenance": [],
      "authorship_tag": "ABX9TyN+qRdN/aMklML84VL/s5lQ",
      "include_colab_link": true
    },
    "kernelspec": {
      "name": "python3",
      "display_name": "Python 3"
    },
    "language_info": {
      "name": "python"
    }
  },
  "cells": [
    {
      "cell_type": "markdown",
      "metadata": {
        "id": "view-in-github",
        "colab_type": "text"
      },
      "source": [
        "<a href=\"https://colab.research.google.com/github/wiemila/ML-courses/blob/main/Bayesian_Machine_Learning_in_PythonAB_Testing.ipynb\" target=\"_parent\"><img src=\"https://colab.research.google.com/assets/colab-badge.svg\" alt=\"Open In Colab\"/></a>"
      ]
    },
    {
      "cell_type": "markdown",
      "source": [
        "\n",
        "#Bayesian Machine Learning"
      ],
      "metadata": {
        "id": "yjGIcYWQBY3a"
      }
    },
    {
      "cell_type": "code",
      "execution_count": null,
      "metadata": {
        "id": "vGb6y26V_9ln"
      },
      "outputs": [],
      "source": [
        "#"
      ]
    },
    {
      "cell_type": "markdown",
      "source": [
        "Mean and variance of height of students in the class to create a model. Collect the data -measure the hight, maximize likelihood with respect to the gaussian mean and variance."
      ],
      "metadata": {
        "id": "j-VqnmsO2wLJ"
      }
    },
    {
      "cell_type": "markdown",
      "source": [
        "For the Bayesian approach, mean and variance are random variables (everything is random in Bayesian), so we need to find the probablity distribution of the mean and variance and not a single number, a whole distribtuion."
      ],
      "metadata": {
        "id": "eLgiQ3Cw3ETo"
      }
    },
    {
      "cell_type": "markdown",
      "source": [
        "Statistics route -choose sampling method -numeral approximation of an integral"
      ],
      "metadata": {
        "id": "NGfDXN6j3SIZ"
      }
    },
    {
      "cell_type": "markdown",
      "source": [
        "Gaussian mixture models -more powerful version of k-means"
      ],
      "metadata": {
        "id": "CPyCkZh64Gpu"
      }
    },
    {
      "cell_type": "markdown",
      "source": [
        "Bayesian models instead of a number we search for a distribution"
      ],
      "metadata": {
        "id": "yD8X197A4Y2Q"
      }
    },
    {
      "cell_type": "markdown",
      "source": [
        "Bayesian networks are used to model more general dependancies. For example exam result depends on the number of hours spend studying and sleeping, and the number of hours of video games influences the hours of sleep so indirectly influences the exam result. Bayes nets we can model those dependancies explicitly, and with neural networks we have to trust the net to fit itself."
      ],
      "metadata": {
        "id": "JsVSSah24e04"
      }
    },
    {
      "cell_type": "markdown",
      "source": [
        "Latent Dirichlet Allocation LDA\n",
        "used for topic modeling, there is no not bayesian version of it like in other examples"
      ],
      "metadata": {
        "id": "Tx2RGpc55LyJ"
      }
    },
    {
      "cell_type": "markdown",
      "source": [],
      "metadata": {
        "id": "Ar68GvG65ZmH"
      }
    }
  ]
}